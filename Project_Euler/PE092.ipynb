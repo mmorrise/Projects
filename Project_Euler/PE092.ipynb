{
 "cells": [
  {
   "cell_type": "code",
   "execution_count": 1,
   "metadata": {
    "collapsed": true
   },
   "outputs": [],
   "source": [
    "import time"
   ]
  },
  {
   "cell_type": "code",
   "execution_count": 24,
   "metadata": {
    "collapsed": false
   },
   "outputs": [],
   "source": [
    "def squareDigitSum(j):\n",
    "    s = str(j)\n",
    "    total = 0\n",
    "    for i in range(len(s)):\n",
    "        d = int(s[i])\n",
    "        total += d**2\n",
    "    return total"
   ]
  },
  {
   "cell_type": "code",
   "execution_count": 31,
   "metadata": {
    "collapsed": false
   },
   "outputs": [
    {
     "data": {
      "text/plain": [
       "10"
      ]
     },
     "execution_count": 31,
     "metadata": {},
     "output_type": "execute_result"
    }
   ],
   "source": [
    "squareDigitSum(13)"
   ]
  },
  {
   "cell_type": "code",
   "execution_count": 38,
   "metadata": {
    "collapsed": false
   },
   "outputs": [
    {
     "name": "stdout",
     "output_type": "stream",
     "text": [
      "8581146\n",
      "Runtime: 201.505 seconds\n"
     ]
    }
   ],
   "source": [
    "start_time = time.time()\n",
    "count = 0\n",
    "\n",
    "for i in range(1,10000001):\n",
    "    j = i\n",
    "    b = False\n",
    "    while(not(b)):\n",
    "        if(j == 1):\n",
    "            b = True\n",
    "        elif(j == 89):\n",
    "            count += 1\n",
    "            b = True\n",
    "        else:\n",
    "            j = squareDigitSum(j)\n",
    "print count\n",
    "    \n",
    "\n",
    "\n",
    "\n",
    "\n",
    "\n",
    "\n",
    "\n",
    "print \"Runtime: %.3f seconds\" % (time.time() - start_time)"
   ]
  },
  {
   "cell_type": "code",
   "execution_count": null,
   "metadata": {
    "collapsed": true
   },
   "outputs": [],
   "source": []
  }
 ],
 "metadata": {
  "kernelspec": {
   "display_name": "Python 2",
   "language": "python",
   "name": "python2"
  },
  "language_info": {
   "codemirror_mode": {
    "name": "ipython",
    "version": 2
   },
   "file_extension": ".py",
   "mimetype": "text/x-python",
   "name": "python",
   "nbconvert_exporter": "python",
   "pygments_lexer": "ipython2",
   "version": "2.7.11"
  }
 },
 "nbformat": 4,
 "nbformat_minor": 0
}

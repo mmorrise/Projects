{
 "cells": [
  {
   "cell_type": "code",
   "execution_count": 8,
   "metadata": {
    "collapsed": false
   },
   "outputs": [
    {
     "name": "stdout",
     "output_type": "stream",
     "text": [
      "837799\n"
     ]
    }
   ],
   "source": [
    "largest = 0\n",
    "result = 0\n",
    "\n",
    "for i in range(1,1000000):\n",
    "    j = i\n",
    "    count = 1\n",
    "    while(i != 1):\n",
    "        if((i % 2) == 1):\n",
    "            i = i*3+1\n",
    "        elif((i % 2) == 0):\n",
    "            i = i/2\n",
    "        count += 1\n",
    "    if(count > largest):\n",
    "        largest = count\n",
    "        result = j\n",
    "\n",
    "print result\n",
    "    "
   ]
  },
  {
   "cell_type": "code",
   "execution_count": null,
   "metadata": {
    "collapsed": true
   },
   "outputs": [],
   "source": []
  }
 ],
 "metadata": {
  "kernelspec": {
   "display_name": "Python 2",
   "language": "python",
   "name": "python2"
  },
  "language_info": {
   "codemirror_mode": {
    "name": "ipython",
    "version": 2
   },
   "file_extension": ".py",
   "mimetype": "text/x-python",
   "name": "python",
   "nbconvert_exporter": "python",
   "pygments_lexer": "ipython2",
   "version": "2.7.11"
  }
 },
 "nbformat": 4,
 "nbformat_minor": 0
}

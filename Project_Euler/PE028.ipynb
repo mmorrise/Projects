{
 "cells": [
  {
   "cell_type": "code",
   "execution_count": 11,
   "metadata": {
    "collapsed": true
   },
   "outputs": [],
   "source": [
    "import time"
   ]
  },
  {
   "cell_type": "code",
   "execution_count": 43,
   "metadata": {
    "collapsed": false
   },
   "outputs": [
    {
     "name": "stdout",
     "output_type": "stream",
     "text": [
      "669171001\n",
      "Runtime: 0.003 seconds\n"
     ]
    }
   ],
   "source": [
    "start = time.time()\n",
    "\n",
    "total = 1\n",
    "i = 1\n",
    "j = 1\n",
    "while(i < 1002001):\n",
    "    i += 8*j\n",
    "    j += 1\n",
    "    total += i\n",
    "    \n",
    "a = 1\n",
    "b = 1\n",
    "while(a < 1000001):\n",
    "    a += 4*(2*b - 1)\n",
    "    b += 1\n",
    "    total += a\n",
    "    \n",
    "n = 1\n",
    "m = 0\n",
    "while(n <999001):\n",
    "    n += 2*(4*m + 1)\n",
    "    m += 1\n",
    "    total += n\n",
    "    \n",
    "k = 1\n",
    "l = 1\n",
    "while(k <1001001):\n",
    "    k += 2*(4*l - 1)\n",
    "    l += 1\n",
    "    total += k\n",
    "    \n",
    "    \n",
    "print total\n",
    "print \"Runtime: %.3f seconds\" % (time.time() - start)"
   ]
  },
  {
   "cell_type": "code",
   "execution_count": 29,
   "metadata": {
    "collapsed": false
   },
   "outputs": [
    {
     "data": {
      "text/plain": [
       "1002001"
      ]
     },
     "execution_count": 29,
     "metadata": {},
     "output_type": "execute_result"
    }
   ],
   "source": [
    "1001**2"
   ]
  },
  {
   "cell_type": "code",
   "execution_count": null,
   "metadata": {
    "collapsed": true
   },
   "outputs": [],
   "source": []
  }
 ],
 "metadata": {
  "kernelspec": {
   "display_name": "Python 2",
   "language": "python",
   "name": "python2"
  },
  "language_info": {
   "codemirror_mode": {
    "name": "ipython",
    "version": 2
   },
   "file_extension": ".py",
   "mimetype": "text/x-python",
   "name": "python",
   "nbconvert_exporter": "python",
   "pygments_lexer": "ipython2",
   "version": "2.7.11"
  }
 },
 "nbformat": 4,
 "nbformat_minor": 0
}

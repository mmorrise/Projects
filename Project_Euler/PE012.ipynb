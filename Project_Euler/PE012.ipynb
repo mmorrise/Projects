{
 "cells": [
  {
   "cell_type": "code",
   "execution_count": 6,
   "metadata": {
    "collapsed": true
   },
   "outputs": [],
   "source": [
    "import time\n",
    "import math"
   ]
  },
  {
   "cell_type": "code",
   "execution_count": 100,
   "metadata": {
    "collapsed": false
   },
   "outputs": [],
   "source": [
    "def fermatFactorization(N):\n",
    "    a = math.ceil(math.sqrt(N))\n",
    "    b2 = a**2 - N\n",
    "    while(not(math.sqrt(b2) == math.ceil(math.sqrt(b2)))):\n",
    "        a += 1\n",
    "        b2 = a**2 - N\n",
    "    return a + math.sqrt(b2)\n",
    "\n",
    "def countFactors(f):\n",
    "    count = 2**(len(f))\n",
    "    for key in f:\n",
    "        if(f[key] != 1):\n",
    "            count += (f[key] - 1) * 2**(len(f) - 1)\n",
    "    return count\n",
    "\n",
    "def findFactors(i,f):\n",
    "    a = fermatFactorization(i)\n",
    "    if(i == a):\n",
    "        if i not in f:\n",
    "            f[i] = 1\n",
    "        else:\n",
    "            f[i] += 1\n",
    "    else:\n",
    "        f = findFactors(a, f)\n",
    "        f = findFactors(i/a, f)\n",
    "    return f\n",
    "    "
   ]
  },
  {
   "cell_type": "code",
   "execution_count": 131,
   "metadata": {
    "collapsed": false
   },
   "outputs": [
    {
     "name": "stdout",
     "output_type": "stream",
     "text": [
      "120 16 {2: 3, 3.0: 1, 5.0: 1}\n",
      "Runtime: 0.003 seconds\n"
     ]
    }
   ],
   "source": [
    "start = time.time()\n",
    "b = False\n",
    "n = 3\n",
    "i = 3\n",
    "f = {}\n",
    "while(countFactors(f) < 500):\n",
    "    i = i + n\n",
    "    #print i\n",
    "    f = {2:0}\n",
    "    j = i\n",
    "    while(j % 2 == 0):\n",
    "        j = j/2\n",
    "        f[2] += 1\n",
    "    if(f[2] == 0):\n",
    "        del f[2]\n",
    "    f = findFactors(j, f)\n",
    "    if(len(f) > 6):\n",
    "        print i\n",
    "        print f , countFactors(f)\n",
    "    n += 1\n",
    "\n",
    "print i, countFactors(f), f\n",
    "\n",
    "print \"Runtime: %.3f seconds\" % (time.time() - start)"
   ]
  },
  {
   "cell_type": "code",
   "execution_count": null,
   "metadata": {
    "collapsed": true
   },
   "outputs": [],
   "source": [
    "76576500"
   ]
  },
  {
   "cell_type": "code",
   "execution_count": 42,
   "metadata": {
    "collapsed": false
   },
   "outputs": [],
   "source": []
  },
  {
   "cell_type": "code",
   "execution_count": 130,
   "metadata": {
    "collapsed": false
   },
   "outputs": [
    {
     "name": "stdout",
     "output_type": "stream",
     "text": [
      "76576500 576\n",
      "Runtime: 5.801 seconds\n"
     ]
    }
   ],
   "source": [
    "#actual solution\n",
    "start = time.time()\n",
    "n = 3\n",
    "i = 3\n",
    "count = 0\n",
    "while(count < 500):\n",
    "    i = i + n\n",
    "    count = 2\n",
    "    for j in range(2, int(math.ceil(math.sqrt(i)))):\n",
    "        if((i % j) == 0):\n",
    "            count += 2\n",
    "    n += 1\n",
    "\n",
    "print i, count\n",
    "\n",
    "print \"Runtime: %.3f seconds\" % (time.time() - start)"
   ]
  },
  {
   "cell_type": "code",
   "execution_count": 106,
   "metadata": {
    "collapsed": false
   },
   "outputs": [
    {
     "name": "stdout",
     "output_type": "stream",
     "text": [
      "{3: 1}\n"
     ]
    }
   ],
   "source": []
  },
  {
   "cell_type": "code",
   "execution_count": 98,
   "metadata": {
    "collapsed": false
   },
   "outputs": [
    {
     "data": {
      "text/plain": [
       "700245"
      ]
     },
     "execution_count": 98,
     "metadata": {},
     "output_type": "execute_result"
    }
   ],
   "source": [
    "\n"
   ]
  },
  {
   "cell_type": "code",
   "execution_count": null,
   "metadata": {
    "collapsed": true
   },
   "outputs": [],
   "source": []
  }
 ],
 "metadata": {
  "kernelspec": {
   "display_name": "Python 2",
   "language": "python",
   "name": "python2"
  },
  "language_info": {
   "codemirror_mode": {
    "name": "ipython",
    "version": 2
   },
   "file_extension": ".py",
   "mimetype": "text/x-python",
   "name": "python",
   "nbconvert_exporter": "python",
   "pygments_lexer": "ipython2",
   "version": "2.7.11"
  }
 },
 "nbformat": 4,
 "nbformat_minor": 0
}

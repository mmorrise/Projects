{
 "cells": [
  {
   "cell_type": "code",
   "execution_count": 2,
   "metadata": {
    "collapsed": false
   },
   "outputs": [],
   "source": [
    "import numpy as np\n",
    "import time\n",
    "import itertools"
   ]
  },
  {
   "cell_type": "code",
   "execution_count": null,
   "metadata": {
    "collapsed": true
   },
   "outputs": [],
   "source": []
  },
  {
   "cell_type": "code",
   "execution_count": 3,
   "metadata": {
    "collapsed": false
   },
   "outputs": [
    {
     "name": "stdout",
     "output_type": "stream",
     "text": [
      "1406357289\n",
      "1430952867\n",
      "1460357289\n",
      "4106357289\n",
      "4130952867\n",
      "4160357289\n",
      "\n",
      "16695334890\n",
      "Runtime: 8.081 seconds\n"
     ]
    }
   ],
   "source": [
    "start = time.time()\n",
    "total = 0\n",
    "numbers = ['0','1','2','3','4','5','6','7','8','9']\n",
    "pan_nums = list(itertools.permutations(numbers))\n",
    "for i in pan_nums:\n",
    "    l = list(i)\n",
    "    if(int(''.join(l[1:4])) % 2 == 0):\n",
    "        if(int(''.join(l[2:5])) % 3 == 0):\n",
    "            if(int(''.join(l[3:6])) % 5 == 0):\n",
    "                if(int(''.join(l[4:7])) % 7 == 0):\n",
    "                    if(int(''.join(l[5:8])) % 11 == 0):\n",
    "                        if(int(''.join(l[6:9])) % 13 == 0):\n",
    "                            if(int(''.join(l[7:10])) % 17 == 0):\n",
    "                                print ''.join(l)\n",
    "                                total += int(''.join(l))\n",
    "print '\\n', total\n",
    "print \"Runtime: %.3f seconds\" % (time.time() - start)"
   ]
  },
  {
   "cell_type": "code",
   "execution_count": 34,
   "metadata": {
    "collapsed": false
   },
   "outputs": [
    {
     "name": "stdout",
     "output_type": "stream",
     "text": [
      "['4', '0', '6']\n",
      "['2', '8', '9']\n"
     ]
    }
   ],
   "source": [
    "test = ['1','4','0','6','3','5','7','2','8','9']\n",
    "print test[1:4]\n",
    "print test[7:10]"
   ]
  },
  {
   "cell_type": "code",
   "execution_count": null,
   "metadata": {
    "collapsed": true
   },
   "outputs": [],
   "source": []
  }
 ],
 "metadata": {
  "kernelspec": {
   "display_name": "Python 2",
   "language": "python",
   "name": "python2"
  },
  "language_info": {
   "codemirror_mode": {
    "name": "ipython",
    "version": 2
   },
   "file_extension": ".py",
   "mimetype": "text/x-python",
   "name": "python",
   "nbconvert_exporter": "python",
   "pygments_lexer": "ipython2",
   "version": "2.7.11"
  }
 },
 "nbformat": 4,
 "nbformat_minor": 0
}

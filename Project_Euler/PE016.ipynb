{
 "cells": [
  {
   "cell_type": "code",
   "execution_count": 1,
   "metadata": {
    "collapsed": true
   },
   "outputs": [],
   "source": [
    "import time"
   ]
  },
  {
   "cell_type": "code",
   "execution_count": 60,
   "metadata": {
    "collapsed": false
   },
   "outputs": [],
   "source": [
    "def multiplyByTwo(s):\n",
    "    c = 0\n",
    "    l = list(s)\n",
    "    for i in range(len(l)):\n",
    "        t = int(s[len(l) - 1 - i:len(l) - i])\n",
    "        t = 2 * t + c\n",
    "        c = 0\n",
    "        if(t >= 10):\n",
    "            c = 1\n",
    "            t = t % 10\n",
    "        l[len(l) - 1 - i] = str(t)\n",
    "    if(c == 1):\n",
    "        l2 = ['1']\n",
    "        l = l2 + l\n",
    "     \n",
    "    return \"\".join(l)\n",
    "\n",
    "def addDigits(s):\n",
    "    d = int(s)\n",
    "    i = 0\n",
    "    for j in range(len(s)):\n",
    "        r = d % 10\n",
    "        i += r\n",
    "        d = d/10\n",
    "    return i\n",
    "    "
   ]
  },
  {
   "cell_type": "code",
   "execution_count": 67,
   "metadata": {
    "collapsed": false
   },
   "outputs": [
    {
     "name": "stdout",
     "output_type": "stream",
     "text": [
      "10715086071862673209484250490600018105614048117055336074437503883703510511249361224931983788156958581275946729175531468251871452856923140435984577574698574803934567774824230985421074605062371141877954182153046474983581941267398767559165543946077062914571196477686542167660429831652624386837205668069376\n",
      "1366\n",
      "Runtime: 0.210 seconds\n"
     ]
    }
   ],
   "source": [
    "start = time.time()\n",
    "\n",
    "s = '2'\n",
    "for i in range(1,1000):\n",
    "    s = multiplyByTwo(s)\n",
    "\n",
    "print s\n",
    "s = addDigits(s)\n",
    "\n",
    "print s\n",
    "print \"Runtime: %.3f seconds\" % (time.time() - start)"
   ]
  },
  {
   "cell_type": "code",
   "execution_count": 61,
   "metadata": {
    "collapsed": false
   },
   "outputs": [
    {
     "data": {
      "text/plain": [
       "'1110'"
      ]
     },
     "execution_count": 61,
     "metadata": {},
     "output_type": "execute_result"
    }
   ],
   "source": [
    "multiplyByTwo('555')\n"
   ]
  },
  {
   "cell_type": "code",
   "execution_count": null,
   "metadata": {
    "collapsed": true
   },
   "outputs": [],
   "source": []
  }
 ],
 "metadata": {
  "kernelspec": {
   "display_name": "Python 2",
   "language": "python",
   "name": "python2"
  },
  "language_info": {
   "codemirror_mode": {
    "name": "ipython",
    "version": 2
   },
   "file_extension": ".py",
   "mimetype": "text/x-python",
   "name": "python",
   "nbconvert_exporter": "python",
   "pygments_lexer": "ipython2",
   "version": "2.7.11"
  }
 },
 "nbformat": 4,
 "nbformat_minor": 0
}

{
 "cells": [
  {
   "cell_type": "code",
   "execution_count": 20,
   "metadata": {
    "collapsed": false
   },
   "outputs": [],
   "source": [
    "import time\n",
    "import numpy as np\n",
    "triangle = np.zeros((15,15))\n",
    "LARGEST = 0"
   ]
  },
  {
   "cell_type": "code",
   "execution_count": 23,
   "metadata": {
    "collapsed": true
   },
   "outputs": [],
   "source": [
    "def findLongestPath(r,c,total):\n",
    "    if(r == 15):\n",
    "        global LARGEST\n",
    "        if(total > LARGEST):\n",
    "            LARGEST = total\n",
    "            return\n",
    "    else:\n",
    "        total += triangle[r][c]\n",
    "        findLongestPath(r+1,c,total)\n",
    "        findLongestPath(r+1,c+1,total)\n",
    "        "
   ]
  },
  {
   "cell_type": "code",
   "execution_count": 25,
   "metadata": {
    "collapsed": false
   },
   "outputs": [
    {
     "name": "stdout",
     "output_type": "stream",
     "text": [
      "1074.0\n",
      "Runtime: 0.040 seconds\n"
     ]
    }
   ],
   "source": [
    "start = time.time()\n",
    "with open(\"PE018.txt\") as f:\n",
    "    for j, line in enumerate(f):\n",
    "        line = line.rstrip()\n",
    "        l = line.split(\" \")\n",
    "        for i, num in enumerate(l):\n",
    "            triangle[j][i] = int(num)\n",
    "\n",
    "findLongestPath(0,0,0)\n",
    "\n",
    "print LARGEST\n",
    "\n",
    "print \"Runtime: %.3f seconds\" % (time.time() - start) "
   ]
  },
  {
   "cell_type": "code",
   "execution_count": null,
   "metadata": {
    "collapsed": true
   },
   "outputs": [],
   "source": []
  }
 ],
 "metadata": {
  "kernelspec": {
   "display_name": "Python 2",
   "language": "python",
   "name": "python2"
  },
  "language_info": {
   "codemirror_mode": {
    "name": "ipython",
    "version": 2
   },
   "file_extension": ".py",
   "mimetype": "text/x-python",
   "name": "python",
   "nbconvert_exporter": "python",
   "pygments_lexer": "ipython2",
   "version": "2.7.11"
  }
 },
 "nbformat": 4,
 "nbformat_minor": 0
}

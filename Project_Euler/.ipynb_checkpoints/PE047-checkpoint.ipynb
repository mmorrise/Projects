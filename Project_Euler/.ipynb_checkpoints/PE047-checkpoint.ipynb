{
 "cells": [
  {
   "cell_type": "code",
   "execution_count": 1,
   "metadata": {
    "collapsed": true
   },
   "outputs": [],
   "source": [
    "import time\n",
    "import math"
   ]
  },
  {
   "cell_type": "code",
   "execution_count": 36,
   "metadata": {
    "collapsed": true
   },
   "outputs": [],
   "source": [
    "def fermatFactorization(N):\n",
    "    a = math.ceil(math.sqrt(N))\n",
    "    b2 = a**2 - N\n",
    "    while(not(math.sqrt(b2) == math.ceil(math.sqrt(b2)))):\n",
    "        a += 1\n",
    "        b2 = a**2 - N\n",
    "    return a + math.sqrt(b2)\n",
    "\n",
    "def findFactors(i,f):\n",
    "    a = fermatFactorization(i)\n",
    "    if(i == a):\n",
    "        if i not in f:\n",
    "            f.add(i)\n",
    "    else:\n",
    "        f = findFactors(a, f)\n",
    "        f = findFactors(i/a, f)\n",
    "    return f\n",
    "\n",
    "def fourFactors(j):\n",
    "    f = set()\n",
    "    while(j % 2 == 0):\n",
    "        f.add(2)\n",
    "        j = j/2\n",
    "    f = findFactors(j, f)\n",
    "    \n",
    "    if(len(f) == 4):\n",
    "        return True\n",
    "    else: return False\n",
    "    "
   ]
  },
  {
   "cell_type": "code",
   "execution_count": 37,
   "metadata": {
    "collapsed": false
   },
   "outputs": [
    {
     "name": "stdout",
     "output_type": "stream",
     "text": [
      "100164 100165 100166\n",
      "100490 100491 100492\n",
      "100594 100595 100596\n",
      "102254 102255 102256\n",
      "102542 102543 102544\n",
      "104804 104805 104806\n",
      "105994 105995 105996\n",
      "108204 108205 108206\n",
      "114608 114609 114610\n",
      "114884 114885 114886\n",
      "115412 115413 115414\n",
      "116840 116841 116842\n",
      "117362 117363 117364\n",
      "118844 118845 118846\n",
      "122484 122485 122486\n",
      "124430 124431 124432\n",
      "124914 124915 124916\n",
      "126614 126615 126616\n",
      "127204 127205 127206\n",
      "127464 127465 127466\n",
      "128400 128401 128402\n",
      "129920 129921 129922\n",
      "133330 133331 133332\n",
      "134043 134044 134045\n",
      "134043\n",
      "Runtime: 388.388 seconds\n"
     ]
    }
   ],
   "source": [
    "start = time.time()\n",
    "j = 210\n",
    "b = False\n",
    "while(not(b)):\n",
    "    j += 1\n",
    "    if(fourFactors(j) and fourFactors(j+1) and fourFactors(j+2)):\n",
    "        print j, j+1, j+2\n",
    "        if(fourFactors(j+3)):\n",
    "            b = True\n",
    "print j\n",
    "print \"Runtime: %.3f seconds\" % (time.time() - start)"
   ]
  },
  {
   "cell_type": "code",
   "execution_count": 34,
   "metadata": {
    "collapsed": false
   },
   "outputs": [
    {
     "name": "stdout",
     "output_type": "stream",
     "text": [
      "set([41.0, 349.0, 7.0])\n"
     ]
    },
    {
     "data": {
      "text/plain": [
       "False"
      ]
     },
     "execution_count": 34,
     "metadata": {},
     "output_type": "execute_result"
    }
   ],
   "source": [
    "fourFactors(100163)"
   ]
  },
  {
   "cell_type": "code",
   "execution_count": null,
   "metadata": {
    "collapsed": true
   },
   "outputs": [],
   "source": []
  }
 ],
 "metadata": {
  "kernelspec": {
   "display_name": "Python 2",
   "language": "python",
   "name": "python2"
  },
  "language_info": {
   "codemirror_mode": {
    "name": "ipython",
    "version": 2
   },
   "file_extension": ".py",
   "mimetype": "text/x-python",
   "name": "python",
   "nbconvert_exporter": "python",
   "pygments_lexer": "ipython2",
   "version": "2.7.11"
  }
 },
 "nbformat": 4,
 "nbformat_minor": 0
}

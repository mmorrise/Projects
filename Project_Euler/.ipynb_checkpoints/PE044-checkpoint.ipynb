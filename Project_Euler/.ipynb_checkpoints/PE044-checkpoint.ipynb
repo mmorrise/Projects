{
 "cells": [
  {
   "cell_type": "code",
   "execution_count": 2,
   "metadata": {
    "collapsed": true
   },
   "outputs": [],
   "source": [
    "import time"
   ]
  },
  {
   "cell_type": "code",
   "execution_count": 34,
   "metadata": {
    "collapsed": false
   },
   "outputs": [
    {
     "name": "stdout",
     "output_type": "stream",
     "text": [
      "5482660\n",
      "Runtime: 4.136 seconds \n"
     ]
    }
   ],
   "source": [
    "start_time = time.time()\n",
    "minimum = 10000000\n",
    "\n",
    "pentagonal = set([n*(3*n - 1)/2 for n in range(1,5000)])\n",
    "for x in pentagonal:\n",
    "    for y in pentagonal:\n",
    "        if(((x + y) in pentagonal) and (abs(x - y) in pentagonal)):\n",
    "            if(abs(x - y) < minimum):\n",
    "                minimum = abs(x - y)\n",
    "           \n",
    "           \n",
    "print minimum\n",
    "\n",
    "print(\"Runtime: %0.3f seconds \"% (time.time() - start_time))"
   ]
  },
  {
   "cell_type": "code",
   "execution_count": null,
   "metadata": {
    "collapsed": true
   },
   "outputs": [],
   "source": []
  }
 ],
 "metadata": {
  "kernelspec": {
   "display_name": "Python 2",
   "language": "python",
   "name": "python2"
  },
  "language_info": {
   "codemirror_mode": {
    "name": "ipython",
    "version": 2
   },
   "file_extension": ".py",
   "mimetype": "text/x-python",
   "name": "python",
   "nbconvert_exporter": "python",
   "pygments_lexer": "ipython2",
   "version": "2.7.11"
  }
 },
 "nbformat": 4,
 "nbformat_minor": 0
}

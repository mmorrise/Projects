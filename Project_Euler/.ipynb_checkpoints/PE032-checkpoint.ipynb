{
 "cells": [
  {
   "cell_type": "code",
   "execution_count": 4,
   "metadata": {
    "collapsed": true
   },
   "outputs": [],
   "source": [
    "import time\n",
    "import itertools"
   ]
  },
  {
   "cell_type": "code",
   "execution_count": null,
   "metadata": {
    "collapsed": true
   },
   "outputs": [],
   "source": []
  },
  {
   "cell_type": "code",
   "execution_count": 5,
   "metadata": {
    "collapsed": false
   },
   "outputs": [
    {
     "name": "stdout",
     "output_type": "stream",
     "text": [
      "45228\n",
      "Runtime: 2.197 seconds\n"
     ]
    }
   ],
   "source": [
    "start = time.time()\n",
    "s = set()\n",
    "numbers = ['1','2','3','4','5','6','7','8','9']\n",
    "pan_nums = list(itertools.permutations(numbers))\n",
    "for i in pan_nums:\n",
    "    l = list(i)\n",
    "    if(int(''.join(l[0:1]))*int(''.join(l[1:5])) == int(''.join(l[5:9]))):\n",
    "        s.add(int(''.join(l[5:9])))\n",
    "\n",
    "    if(int(''.join(l[0:2]))*int(''.join(l[2:5])) == int(''.join(l[5:9]))):\n",
    "        s.add(int(''.join(l[5:9])))\n",
    "\n",
    "print sum(s)\n",
    "\n",
    "\n",
    "print \"Runtime: %.3f seconds\" % (time.time() - start)"
   ]
  },
  {
   "cell_type": "code",
   "execution_count": 11,
   "metadata": {
    "collapsed": false
   },
   "outputs": [
    {
     "name": "stdout",
     "output_type": "stream",
     "text": [
      "['3', '4', '5']\n"
     ]
    }
   ],
   "source": [
    "k = ['1','2','3','4','5','6','7','8','9']\n",
    "print k[2:5]\n"
   ]
  },
  {
   "cell_type": "code",
   "execution_count": null,
   "metadata": {
    "collapsed": true
   },
   "outputs": [],
   "source": []
  }
 ],
 "metadata": {
  "kernelspec": {
   "display_name": "Python 2",
   "language": "python",
   "name": "python2"
  },
  "language_info": {
   "codemirror_mode": {
    "name": "ipython",
    "version": 2
   },
   "file_extension": ".py",
   "mimetype": "text/x-python",
   "name": "python",
   "nbconvert_exporter": "python",
   "pygments_lexer": "ipython2",
   "version": "2.7.11"
  }
 },
 "nbformat": 4,
 "nbformat_minor": 0
}

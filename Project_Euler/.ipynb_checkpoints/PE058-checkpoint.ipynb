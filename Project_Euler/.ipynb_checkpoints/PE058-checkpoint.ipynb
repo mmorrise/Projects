{
 "cells": [
  {
   "cell_type": "code",
   "execution_count": 7,
   "metadata": {
    "collapsed": true
   },
   "outputs": [],
   "source": [
    "import math\n",
    "import time"
   ]
  },
  {
   "cell_type": "code",
   "execution_count": 8,
   "metadata": {
    "collapsed": true
   },
   "outputs": [],
   "source": [
    "def isPrime(i):\n",
    "    for j in range(2,int(math.ceil(math.sqrt(i)))):\n",
    "        if(i % j == 0):\n",
    "            return False\n",
    "    return True"
   ]
  },
  {
   "cell_type": "code",
   "execution_count": 25,
   "metadata": {
    "collapsed": false
   },
   "outputs": [
    {
     "name": "stdout",
     "output_type": "stream",
     "text": [
      "26241\n",
      "Runtime: 11.502 seconds\n"
     ]
    }
   ],
   "source": [
    "start = time.time()\n",
    "\n",
    "total = 5\n",
    "prime = 3\n",
    "side = 3\n",
    "i = 9\n",
    "a = 5\n",
    "n = 3\n",
    "k = 7\n",
    "j = 1\n",
    "\n",
    "while((prime*1.0)/total >= 0.10):\n",
    "    #print side, (prime*1.0)/total\n",
    "    side += 2\n",
    "    j += 1\n",
    "    \n",
    "\n",
    "    a += 4*(2*j - 1)\n",
    "    if(isPrime(a)):\n",
    "        prime += 1\n",
    "    n += 2*(4*j - 3)\n",
    "    if(isPrime(n)):\n",
    "        prime += 1\n",
    "    k += 2*(4*j - 1)\n",
    "    if(isPrime(k)):\n",
    "        prime += 1\n",
    "    total += 4\n",
    "    \n",
    "     \n",
    "    \n",
    "\n",
    "print side\n",
    "print \"Runtime: %.3f seconds\" % (time.time() - start)"
   ]
  },
  {
   "cell_type": "code",
   "execution_count": null,
   "metadata": {
    "collapsed": true
   },
   "outputs": [],
   "source": []
  }
 ],
 "metadata": {
  "kernelspec": {
   "display_name": "Python 2",
   "language": "python",
   "name": "python2"
  },
  "language_info": {
   "codemirror_mode": {
    "name": "ipython",
    "version": 2
   },
   "file_extension": ".py",
   "mimetype": "text/x-python",
   "name": "python",
   "nbconvert_exporter": "python",
   "pygments_lexer": "ipython2",
   "version": "2.7.11"
  }
 },
 "nbformat": 4,
 "nbformat_minor": 0
}

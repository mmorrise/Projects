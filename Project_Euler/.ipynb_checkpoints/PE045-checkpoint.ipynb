{
 "cells": [
  {
   "cell_type": "code",
   "execution_count": 3,
   "metadata": {
    "collapsed": true
   },
   "outputs": [],
   "source": [
    "import time"
   ]
  },
  {
   "cell_type": "code",
   "execution_count": null,
   "metadata": {
    "collapsed": true
   },
   "outputs": [],
   "source": [
    "def isPentagonal(i):\n",
    "    \n",
    "    return True\n",
    "    \n",
    "def isHexagonal(i):\n",
    "    \n",
    "    return True"
   ]
  },
  {
   "cell_type": "code",
   "execution_count": 8,
   "metadata": {
    "collapsed": false
   },
   "outputs": [
    {
     "name": "stdout",
     "output_type": "stream",
     "text": [
      "1533776805\n",
      "Runtime: 0.082 seconds \n"
     ]
    }
   ],
   "source": [
    "start_time = time.time()\n",
    "b = False\n",
    "i = 2\n",
    "pentagonal = set()\n",
    "hexagonal = set()\n",
    "while(not(b)):\n",
    "    i+= 1\n",
    "    t = i*(i+1)/2\n",
    "    p = i*(3*i - 1)/2\n",
    "    h = i*(2*i-1)\n",
    "    pentagonal.add(p)\n",
    "    hexagonal.add(h)\n",
    "    if((t in pentagonal) and (t in hexagonal)):\n",
    "        if(t == 40755):\n",
    "            b = False\n",
    "        else: b = True\n",
    "    \n",
    "    \n",
    "\n",
    "print i*(i+1)/2\n",
    "print(\"Runtime: %0.3f seconds \"% (time.time() - start_time))"
   ]
  },
  {
   "cell_type": "code",
   "execution_count": null,
   "metadata": {
    "collapsed": true
   },
   "outputs": [],
   "source": []
  },
  {
   "cell_type": "code",
   "execution_count": null,
   "metadata": {
    "collapsed": true
   },
   "outputs": [],
   "source": []
  }
 ],
 "metadata": {
  "kernelspec": {
   "display_name": "Python 2",
   "language": "python",
   "name": "python2"
  },
  "language_info": {
   "codemirror_mode": {
    "name": "ipython",
    "version": 2
   },
   "file_extension": ".py",
   "mimetype": "text/x-python",
   "name": "python",
   "nbconvert_exporter": "python",
   "pygments_lexer": "ipython2",
   "version": "2.7.11"
  }
 },
 "nbformat": 4,
 "nbformat_minor": 0
}

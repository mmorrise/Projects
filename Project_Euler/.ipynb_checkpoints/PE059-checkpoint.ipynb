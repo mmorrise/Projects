{
 "cells": [
  {
   "cell_type": "code",
   "execution_count": 2,
   "metadata": {
    "collapsed": true
   },
   "outputs": [],
   "source": [
    "import time\n",
    "import math"
   ]
  },
  {
   "cell_type": "code",
   "execution_count": 73,
   "metadata": {
    "collapsed": false
   },
   "outputs": [],
   "source": [
    "f = open(\"PE059.txt\",\"r\")\n",
    "string_data = f.readline()\n",
    "data = string_data.split(',')\n",
    "data = [int(x) for x in data]\n",
    "\n",
    "VALID_ASCII = set([10,32,33,39,40,41,44,46,48,49,50,51,52,53,54,55,56,57,59,65,66,67,68,69,70,71,72,73,74,75,76,77,78,79,\\\n",
    "                   80,81,82,83,84,85,86,87,88,89,90,97,98,99,100,101,102,103,104,105,106,107,108,109,110,\\\n",
    "                   111,112,113,114,115,116,117,118,119,120,121])"
   ]
  },
  {
   "cell_type": "code",
   "execution_count": 78,
   "metadata": {
    "collapsed": false
   },
   "outputs": [],
   "source": [
    "def checkLetter(i):\n",
    "    impossible = set()\n",
    "    for j in range(26):\n",
    "        #print '\\n', \"char:\", chr(j + 97), \"----------------------------\"\n",
    "        k = i\n",
    "        while(k < len(data)):\n",
    "            ascii = j + 97\n",
    "            xor = ascii ^ data[k]\n",
    "            #print chr(xor),\n",
    "            if xor not in VALID_ASCII:\n",
    "                impossible.add(chr(ascii))\n",
    "            k += 3\n",
    "    return impossible\n",
    "\n",
    "def checkKey(i, j, k):\n",
    "    message = []\n",
    "    c1 = ord(i)\n",
    "    c2 = ord(j)\n",
    "    c3 = ord(k)\n",
    "    l = 0\n",
    "    while(l < len(data) - 2):\n",
    "        message.append(chr(c1 ^ data[l]))\n",
    "        l += 1\n",
    "        message.append(chr(c2 ^ data[l]))\n",
    "        l += 1\n",
    "        message.append(chr(c3 ^ data[l]))\n",
    "        l += 1\n",
    "        \n",
    "    return ''.join(message)\n",
    "\n",
    "def sumKey(i, j, k):\n",
    "    total = 0\n",
    "    c1 = ord(i)\n",
    "    c2 = ord(j)\n",
    "    c3 = ord(k)\n",
    "    l = 0\n",
    "    while(l < len(data) - 2):\n",
    "        total += (c1 ^ data[l])\n",
    "        l += 1\n",
    "        total += (c2 ^ data[l])\n",
    "        l += 1\n",
    "        total += (c3 ^ data[l])\n",
    "        l += 1\n",
    "        \n",
    "    return total\n",
    "\n",
    "def possible(s):\n",
    "    possible_char = []\n",
    "    for i in range(26):\n",
    "        if chr(i + 97) not in s:\n",
    "            possible_char.append(chr(i + 97))\n",
    "    return possible_char\n",
    "            \n",
    "        "
   ]
  },
  {
   "cell_type": "code",
   "execution_count": 79,
   "metadata": {
    "collapsed": false
   },
   "outputs": [
    {
     "name": "stdout",
     "output_type": "stream",
     "text": [
      "['g']\n",
      "['o']\n",
      "[]\n",
      "(The Gospel of John, chapter 1) 1 In the beginning the Word already existed. He was with God, and he was God. 2 He was in the beginning with God. 3 He created everything there is. Nothing exists that he didn't make. 4 Life itself was in him, and this life gives light to everyone. 5 The light shines through the darkness, and the darkness can never extinguish it. 6 God sent John the Baptist 7 to tell everyone about the light so that everyone might believe because of his testimony. 8 John himself was not the light; he was only a witness to the light. 9 The one who is the true light, who gives light to everyone, was going to come into the world. 10 But although the world was made through him, the world didn't recognize him when he came. 11 Even in his own land and among his own people, he was not accepted. 12 But to all who believed him and accepted him, he gave the right to become children of God. 13 They are reborn! This is not a physical birth resulting from human passion or plan, this rebirth comes from God.14 So the Word became human and lived here on earth among us. He was full of unfailing love and faithfulness. And we have seen his glory, the glory of the only Son of the Father\n",
      "107359\n",
      "Runtime: 0.035 seconds\n"
     ]
    }
   ],
   "source": [
    "start = time.time()\n",
    "\n",
    "print possible(checkLetter(0))\n",
    "print possible(checkLetter(1))\n",
    "print possible(checkLetter(2))\n",
    "\n",
    "print checkKey('g', 'o', 'd')\n",
    "print sumKey('g', 'o', 'd') + 46 #for the last period\n",
    "\n",
    "\n",
    "\n",
    "\n",
    "    \n",
    "    \n",
    "print \"Runtime: %.3f seconds\" % (time.time() - start)"
   ]
  },
  {
   "cell_type": "code",
   "execution_count": 61,
   "metadata": {
    "collapsed": false
   },
   "outputs": [
    {
     "data": {
      "text/plain": [
       "114"
      ]
     },
     "execution_count": 61,
     "metadata": {},
     "output_type": "execute_result"
    }
   ],
   "source": [
    "22^ord('d')"
   ]
  },
  {
   "cell_type": "code",
   "execution_count": null,
   "metadata": {
    "collapsed": true
   },
   "outputs": [],
   "source": []
  }
 ],
 "metadata": {
  "kernelspec": {
   "display_name": "Python 2",
   "language": "python",
   "name": "python2"
  },
  "language_info": {
   "codemirror_mode": {
    "name": "ipython",
    "version": 2
   },
   "file_extension": ".py",
   "mimetype": "text/x-python",
   "name": "python",
   "nbconvert_exporter": "python",
   "pygments_lexer": "ipython2",
   "version": "2.7.11"
  }
 },
 "nbformat": 4,
 "nbformat_minor": 0
}

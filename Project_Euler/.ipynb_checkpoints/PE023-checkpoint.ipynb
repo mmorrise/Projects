{
 "cells": [
  {
   "cell_type": "code",
   "execution_count": 1,
   "metadata": {
    "collapsed": true
   },
   "outputs": [],
   "source": [
    "import time\n",
    "import math\n",
    "import itertools"
   ]
  },
  {
   "cell_type": "code",
   "execution_count": 2,
   "metadata": {
    "collapsed": true
   },
   "outputs": [],
   "source": [
    "def factorSum(i):\n",
    "    l = [1]\n",
    "    #if(math.sqrt(i) == math.ceil(math.sqrt(i))):\n",
    "    #    l.append(math.sqrt(i))\n",
    "    for j in range(2, int(math.ceil(i/2 + 1))):\n",
    "        if((i % j) == 0):\n",
    "            l.append(j)\n",
    "    sum1 = 0\n",
    "    for element in l:\n",
    "        sum1 += element\n",
    "    return sum1"
   ]
  },
  {
   "cell_type": "code",
   "execution_count": 4,
   "metadata": {
    "collapsed": false
   },
   "outputs": [
    {
     "name": "stdout",
     "output_type": "stream",
     "text": [
      "4179871\n",
      "Runtime: 15.848 seconds\n"
     ]
    }
   ],
   "source": [
    "start = time.time()\n",
    "l = []\n",
    "for i in range(10,28123):\n",
    " if(i < factorSum(i)):\n",
    "    l.append(i)\n",
    "    \n",
    "    \n",
    "a = set()\n",
    "for j in range(len(l)):\n",
    "    for k in itertools.islice(l, j, len(l)):\n",
    "        if((l[j] + k) < 28123):\n",
    "            a.add(l[j] + k)\n",
    "        else: break\n",
    "\n",
    "sum2 = sum([m for m in range(1,28123) if m not in a])\n",
    "\n",
    "print sum2\n",
    "\n",
    "print \"Runtime: %.3f seconds\" % (time.time() - start)"
   ]
  },
  {
   "cell_type": "code",
   "execution_count": null,
   "metadata": {
    "collapsed": false
   },
   "outputs": [],
   "source": [
    "\n"
   ]
  },
  {
   "cell_type": "code",
   "execution_count": null,
   "metadata": {
    "collapsed": true
   },
   "outputs": [],
   "source": []
  }
 ],
 "metadata": {
  "kernelspec": {
   "display_name": "Python 2",
   "language": "python",
   "name": "python2"
  },
  "language_info": {
   "codemirror_mode": {
    "name": "ipython",
    "version": 2
   },
   "file_extension": ".py",
   "mimetype": "text/x-python",
   "name": "python",
   "nbconvert_exporter": "python",
   "pygments_lexer": "ipython2",
   "version": "2.7.11"
  }
 },
 "nbformat": 4,
 "nbformat_minor": 0
}

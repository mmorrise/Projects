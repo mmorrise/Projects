{
 "cells": [
  {
   "cell_type": "code",
   "execution_count": 1,
   "metadata": {
    "collapsed": true
   },
   "outputs": [],
   "source": [
    "import time"
   ]
  },
  {
   "cell_type": "code",
   "execution_count": 70,
   "metadata": {
    "collapsed": false
   },
   "outputs": [],
   "source": [
    "def isPalindrome(i):\n",
    "    s = str(i)\n",
    "    for j in range((len(s)+1)/2):\n",
    "        if(s[j] != s[len(s) - j - 1]):\n",
    "            return False\n",
    "    return True\n",
    "\n",
    "def toBinary(i):\n",
    "    j = 20\n",
    "    s = ''\n",
    "    while(i/(2**j) == 0):\n",
    "        j -= 1\n",
    "    for k in range(j):\n",
    "        if(i/(2**(j-k)) == 0):\n",
    "            s += '0'\n",
    "        else:\n",
    "            s += '1'\n",
    "            i -= 2**(j-k)\n",
    "    if(i == 1):\n",
    "        s += '1'\n",
    "    else:\n",
    "        s += '0'\n",
    "    return s      "
   ]
  },
  {
   "cell_type": "code",
   "execution_count": 74,
   "metadata": {
    "collapsed": false
   },
   "outputs": [
    {
     "name": "stdout",
     "output_type": "stream",
     "text": [
      "872187\n",
      "Runtime: 1.086 seconds\n"
     ]
    }
   ],
   "source": [
    "start = time.time()\n",
    "total = 1\n",
    "for i in range(2, 1000000):\n",
    "    if(isPalindrome(i)):\n",
    "        if(isPalindrome(toBinary(i))):\n",
    "            total += i\n",
    "        \n",
    "\n",
    "print total\n",
    "\n",
    "print \"Runtime: %.3f seconds\" % (time.time() - start)"
   ]
  },
  {
   "cell_type": "code",
   "execution_count": 64,
   "metadata": {
    "collapsed": false
   },
   "outputs": [
    {
     "data": {
      "text/plain": [
       "1"
      ]
     },
     "execution_count": 64,
     "metadata": {},
     "output_type": "execute_result"
    }
   ],
   "source": [
    "10/8"
   ]
  },
  {
   "cell_type": "code",
   "execution_count": null,
   "metadata": {
    "collapsed": true
   },
   "outputs": [],
   "source": []
  }
 ],
 "metadata": {
  "kernelspec": {
   "display_name": "Python 2",
   "language": "python",
   "name": "python2"
  },
  "language_info": {
   "codemirror_mode": {
    "name": "ipython",
    "version": 2
   },
   "file_extension": ".py",
   "mimetype": "text/x-python",
   "name": "python",
   "nbconvert_exporter": "python",
   "pygments_lexer": "ipython2",
   "version": "2.7.11"
  }
 },
 "nbformat": 4,
 "nbformat_minor": 0
}

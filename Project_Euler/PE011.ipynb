{
 "cells": [
  {
   "cell_type": "code",
   "execution_count": 21,
   "metadata": {
    "collapsed": true
   },
   "outputs": [],
   "source": [
    "import numpy as np"
   ]
  },
  {
   "cell_type": "code",
   "execution_count": 1,
   "metadata": {
    "collapsed": false
   },
   "outputs": [
    {
     "name": "stdout",
     "output_type": "stream",
     "text": [
      "70600674\n"
     ]
    }
   ],
   "source": [
    "file = open(\"PE011\",\"r\")\n",
    "data = []\n",
    "string_data = [line.split() for line in file]\n",
    "for line in string_data:\n",
    "    line = [int(x) for x in line]\n",
    "    data.append(line)\n",
    "\n",
    "largest_product = 0\n",
    "\n",
    "for i in range(17):\n",
    "    for j in range(20):\n",
    "        product = data[i][j] * data[i+1][j] * data[i+2][j] * data[i+3][j]\n",
    "        if(product > largest_product):\n",
    "            largest_product = product\n",
    "\n",
    "for i in range(20):\n",
    "    for j in range(17):\n",
    "        product = data[i][j] * data[i][j+1] * data[i][j+2] * data[i][j+3]\n",
    "        if(product > largest_product):\n",
    "            largest_product = product\n",
    "\n",
    "            \n",
    "\n",
    "for i in range(17):\n",
    "    for j in range(17):\n",
    "        product = data[i][j] * data[i+1][j+1] * data[i+2][j+2] * data[i+3][j+3]\n",
    "        if(product > largest_product):\n",
    "            largest_product = product\n",
    "            \n",
    "for i in range(17):\n",
    "    for j in range(17):\n",
    "        product = data[19-i][j] * data[18-i][j+1] * data[17-i][j+2] * data[16-i][j+3]\n",
    "        if(product > largest_product):\n",
    "            largest_product = product\n",
    "            \n",
    "            \n",
    "print largest_product\n",
    "\n",
    "        \n",
    "        \n"
   ]
  },
  {
   "cell_type": "code",
   "execution_count": null,
   "metadata": {
    "collapsed": true
   },
   "outputs": [],
   "source": []
  },
  {
   "cell_type": "code",
   "execution_count": null,
   "metadata": {
    "collapsed": true
   },
   "outputs": [],
   "source": []
  }
 ],
 "metadata": {
  "kernelspec": {
   "display_name": "Python 2",
   "language": "python",
   "name": "python2"
  },
  "language_info": {
   "codemirror_mode": {
    "name": "ipython",
    "version": 2
   },
   "file_extension": ".py",
   "mimetype": "text/x-python",
   "name": "python",
   "nbconvert_exporter": "python",
   "pygments_lexer": "ipython2",
   "version": "2.7.11"
  }
 },
 "nbformat": 4,
 "nbformat_minor": 0
}

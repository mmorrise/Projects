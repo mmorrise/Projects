{
 "cells": [
  {
   "cell_type": "code",
   "execution_count": 1,
   "metadata": {
    "collapsed": true
   },
   "outputs": [],
   "source": [
    "import time"
   ]
  },
  {
   "cell_type": "code",
   "execution_count": 2,
   "metadata": {
    "collapsed": false
   },
   "outputs": [],
   "source": [
    "def reverse(i):\n",
    "    s = str(i)\n",
    "    return int(s[::-1])\n",
    "\n",
    "def isOdd(i):\n",
    "    s = str(i)\n",
    "    for j in range(len(s)):\n",
    "        if(int(s[j]) % 2 == 0):\n",
    "            return False\n",
    "    return True\n",
    "    "
   ]
  },
  {
   "cell_type": "code",
   "execution_count": 10,
   "metadata": {
    "collapsed": false
   },
   "outputs": [
    {
     "name": "stdout",
     "output_type": "stream",
     "text": [
      "0\n",
      "Runtime: 241.330 seconds \n"
     ]
    }
   ],
   "source": [
    "start_time = time.time()\n",
    "count = 0\n",
    "for i in range(100000000):\n",
    "    j = reverse(i)\n",
    "    if(i < j):\n",
    "        if((j % 2) != (i % 2)):\n",
    "            if((i % 10) != 0):\n",
    "                if(isOdd(i + j)):\n",
    "                    count += 2\n",
    "        \n",
    "print count\n",
    "print(\"Runtime: %0.3f seconds \"% (time.time() - start_time))"
   ]
  },
  {
   "cell_type": "code",
   "execution_count": null,
   "metadata": {
    "collapsed": false
   },
   "outputs": [],
   "source": []
  },
  {
   "cell_type": "code",
   "execution_count": null,
   "metadata": {
    "collapsed": true
   },
   "outputs": [],
   "source": []
  }
 ],
 "metadata": {
  "kernelspec": {
   "display_name": "Python 2",
   "language": "python",
   "name": "python2"
  },
  "language_info": {
   "codemirror_mode": {
    "name": "ipython",
    "version": 2
   },
   "file_extension": ".py",
   "mimetype": "text/x-python",
   "name": "python",
   "nbconvert_exporter": "python",
   "pygments_lexer": "ipython2",
   "version": "2.7.11"
  }
 },
 "nbformat": 4,
 "nbformat_minor": 0
}

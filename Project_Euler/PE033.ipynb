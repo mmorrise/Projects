{
 "cells": [
  {
   "cell_type": "code",
   "execution_count": 10,
   "metadata": {
    "collapsed": false
   },
   "outputs": [],
   "source": [
    "import time\n",
    "import fractions"
   ]
  },
  {
   "cell_type": "code",
   "execution_count": null,
   "metadata": {
    "collapsed": false
   },
   "outputs": [],
   "source": [
    "\n",
    "        "
   ]
  },
  {
   "cell_type": "code",
   "execution_count": 13,
   "metadata": {
    "collapsed": false
   },
   "outputs": [
    {
     "name": "stdout",
     "output_type": "stream",
     "text": [
      "16 64\n",
      "19 95\n",
      "26 65\n",
      "49 98\n",
      "1/100\n",
      "Runtime: 0.009 seconds\n"
     ]
    }
   ],
   "source": [
    "start_time = time.time()\n",
    "numerator = 1\n",
    "denominator = 1\n",
    "for a in range(10, 100):\n",
    "    for b in range(10, 100):\n",
    "        a1 = a % 10\n",
    "        a2 = a/10\n",
    "        b1 = b % 10\n",
    "        b2 = b/10\n",
    "        if((a1 == b1) and (b2 != 0) and (a1 != 0) and ((a2*1.0)/b2 < 1)):\n",
    "            if((a*1.0)/b == (a2*1.0)/b2):\n",
    "                numerator *= a\n",
    "                denominator *= b\n",
    "                print a,b\n",
    "        if((a1 == b2) and (b1 != 0) and ((a2*1.0)/b1 < 1)):\n",
    "            if((a*1.0)/b == (a2*1.0)/b1):\n",
    "                numerator *= a\n",
    "                denominator *= b\n",
    "                print a,b\n",
    "        if((a2 == b1) and (b2 != 0) and ((a1*1.0)/b2 < 1)):\n",
    "            if((a*1.0)/b == (a1*1.0)/b2):\n",
    "                numerator *= a\n",
    "                denominator *= b\n",
    "                print a,b\n",
    "        if((a2 == b2) and (b1 != 0) and ((a1*1.0)/b1 < 1)):\n",
    "            if((a*1.0)/b == (a1*1.0)/b1):\n",
    "                numerator *= a\n",
    "                denominator *= b\n",
    "                print a,b\n",
    "            \n",
    "\n",
    "print fractions.Fraction((numerator*1.0)/denominator).limit_denominator()\n",
    "\n",
    "print \"Runtime: %.3f seconds\" % (time.time() - start_time)"
   ]
  },
  {
   "cell_type": "code",
   "execution_count": null,
   "metadata": {
    "collapsed": true
   },
   "outputs": [],
   "source": []
  }
 ],
 "metadata": {
  "kernelspec": {
   "display_name": "Python 2",
   "language": "python",
   "name": "python2"
  },
  "language_info": {
   "codemirror_mode": {
    "name": "ipython",
    "version": 2
   },
   "file_extension": ".py",
   "mimetype": "text/x-python",
   "name": "python",
   "nbconvert_exporter": "python",
   "pygments_lexer": "ipython2",
   "version": "2.7.11"
  }
 },
 "nbformat": 4,
 "nbformat_minor": 0
}

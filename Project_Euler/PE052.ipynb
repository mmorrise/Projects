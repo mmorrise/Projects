{
 "cells": [
  {
   "cell_type": "code",
   "execution_count": 1,
   "metadata": {
    "collapsed": true
   },
   "outputs": [],
   "source": [
    "import time\n",
    "import math"
   ]
  },
  {
   "cell_type": "code",
   "execution_count": 4,
   "metadata": {
    "collapsed": false
   },
   "outputs": [],
   "source": [
    "def containsSameDigits(i,j):\n",
    "    if(len(str(i)) != len(str(j))):\n",
    "        return False\n",
    "    l = [k for k in str(i)]\n",
    "    for d in str(j):\n",
    "        if d in l:\n",
    "            l.remove(d)\n",
    "        else: return False\n",
    "    if(len(l) == 0) :\n",
    "        return True\n",
    "    else: return False"
   ]
  },
  {
   "cell_type": "code",
   "execution_count": 21,
   "metadata": {
    "collapsed": false
   },
   "outputs": [
    {
     "name": "stdout",
     "output_type": "stream",
     "text": [
      "142857\n",
      "Runtime: 0.277 seconds\n"
     ]
    }
   ],
   "source": [
    "start = time.time()\n",
    "i = 1\n",
    "b = False\n",
    "while(not(b)):\n",
    "    i += 1\n",
    "    if(containsSameDigits(i,(2*i))):\n",
    "        if(containsSameDigits(i,3*i)):\n",
    "            if(containsSameDigits(i,4*i)):\n",
    "                if(containsSameDigits(i,5*i)):\n",
    "                    if(containsSameDigits(i,6*i)):\n",
    "                        b = True\n",
    "   \n",
    "\n",
    "print i\n",
    "print \"Runtime: %.3f seconds\" % (time.time() - start)"
   ]
  },
  {
   "cell_type": "code",
   "execution_count": 13,
   "metadata": {
    "collapsed": false
   },
   "outputs": [
    {
     "data": {
      "text/plain": [
       "False"
      ]
     },
     "execution_count": 13,
     "metadata": {},
     "output_type": "execute_result"
    }
   ],
   "source": [
    "containsSameDigits(142858,285716)"
   ]
  },
  {
   "cell_type": "code",
   "execution_count": 12,
   "metadata": {
    "collapsed": false
   },
   "outputs": [
    {
     "data": {
      "text/plain": [
       "285716"
      ]
     },
     "execution_count": 12,
     "metadata": {},
     "output_type": "execute_result"
    }
   ],
   "source": []
  },
  {
   "cell_type": "code",
   "execution_count": null,
   "metadata": {
    "collapsed": true
   },
   "outputs": [],
   "source": []
  }
 ],
 "metadata": {
  "kernelspec": {
   "display_name": "Python 2",
   "language": "python",
   "name": "python2"
  },
  "language_info": {
   "codemirror_mode": {
    "name": "ipython",
    "version": 2
   },
   "file_extension": ".py",
   "mimetype": "text/x-python",
   "name": "python",
   "nbconvert_exporter": "python",
   "pygments_lexer": "ipython2",
   "version": "2.7.11"
  }
 },
 "nbformat": 4,
 "nbformat_minor": 0
}

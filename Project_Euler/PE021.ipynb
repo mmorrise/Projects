{
 "cells": [
  {
   "cell_type": "code",
   "execution_count": 1,
   "metadata": {
    "collapsed": true
   },
   "outputs": [],
   "source": [
    "import time\n",
    "import math"
   ]
  },
  {
   "cell_type": "code",
   "execution_count": 2,
   "metadata": {
    "collapsed": false
   },
   "outputs": [],
   "source": [
    "def factorSum(i):\n",
    "    l = [1]\n",
    "    if(math.sqrt(i) == math.ceil(math.sqrt(i))):\n",
    "        l.append(math.sqrt(i))\n",
    "    for j in range(2, int(i/2 + 1)):\n",
    "        if((i % j) == 0):\n",
    "            l.append(j)\n",
    "    sum = 0\n",
    "    for element in l:\n",
    "        sum += element\n",
    "    return sum\n",
    "    "
   ]
  },
  {
   "cell_type": "code",
   "execution_count": 3,
   "metadata": {
    "collapsed": false
   },
   "outputs": [
    {
     "name": "stdout",
     "output_type": "stream",
     "text": [
      "220\n",
      "284\n",
      "1184\n",
      "1210\n",
      "2620\n",
      "2924\n",
      "5020\n",
      "5564\n",
      "6232\n",
      "6368\n",
      "31626\n",
      "Runtime: 4.070 seconds\n"
     ]
    }
   ],
   "source": [
    "start = time.time()\n",
    "sum = 0\n",
    "\n",
    "for i in range(3,10000):\n",
    " if((i != factorSum(i)) and (i == factorSum(factorSum(i)))):\n",
    "    sum += i\n",
    "    print i\n",
    "\n",
    "print sum\n",
    "\n",
    "print \"Runtime: %.3f seconds\" % (time.time() - start)"
   ]
  },
  {
   "cell_type": "code",
   "execution_count": null,
   "metadata": {
    "collapsed": false
   },
   "outputs": [],
   "source": []
  },
  {
   "cell_type": "code",
   "execution_count": null,
   "metadata": {
    "collapsed": true
   },
   "outputs": [],
   "source": []
  }
 ],
 "metadata": {
  "kernelspec": {
   "display_name": "Python 2",
   "language": "python",
   "name": "python2"
  },
  "language_info": {
   "codemirror_mode": {
    "name": "ipython",
    "version": 2
   },
   "file_extension": ".py",
   "mimetype": "text/x-python",
   "name": "python",
   "nbconvert_exporter": "python",
   "pygments_lexer": "ipython2",
   "version": "2.7.11"
  }
 },
 "nbformat": 4,
 "nbformat_minor": 0
}
